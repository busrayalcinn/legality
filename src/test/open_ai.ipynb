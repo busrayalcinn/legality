import openai
import os
import logging
from datetime import datetime

# API anahtar�n� ayarla
openai.api_key = os.getenv('OPENAI_API_KEY')

if not openai.api_key:
    logging.error("API anahtar� ayarlanmam��. L�tfen OPENAI_API_KEY �evresel de�i�kenini ayarlay�n.")
    exit(1)

# Loglama ayarlari
logging.basicConfig(level=logging.INFO, format='%(asctime)s - %(levelname)s - %(message)s')

# Duzenlemeler listesi
regulations = {
    "GDPR": """
    GDPR uyar�nca, web siteleri kullan�c�lar�, verilerin nas�l topland���, i�lendi�i ve sakland��� konusunda bilgilendirmelidir.
    Kullan�c�lara ki�isel verilerine eri�me, d�zeltme veya silme hakk� verilmelidir.
    """,
    "CCPA": """
    CCPA, i�letmelerin toplad��� ki�isel verileri ve bunlar�n nas�l kullan�ld���n� a��klamas�n� gerektirir ve kullan�c�lara veri sat��� konusunda vazge�me hakk� verir.
    """,
    "HIPAA": """
    HIPAA, sa�l�k bilgilerinin korunmas�n� zorunlu k�lar ve bireylerin bilgilerin nas�l kullan�ld��� ve payla��ld��� hakk�nda bilgilendirilmesini gerektirir.
    """
}

def check_compliance_with_gpt(site_content, regulation):
    messages = [
        {"role": "user", "content": f"""
        Sen bir hukuki uyum asistan�s�n. A�a��daki web sitesi i�eri�ini belirtilen d�zenlemeye uyumluluk a��s�ndan analiz et.
        Gerekirse ayr�nt�l� bir analiz ve geli�tirme �nerileri sun.

        Web Sitesi ��eri�i:
        {site_content}

        D�zenleme:
        {regulation}
        """}
    ]

    try:
        response = openai.ChatCompletion.create(
            model="gpt-4-turbo",
            messages=messages,
            max_tokens=500,  # Daha fazla i�erik i�in token art�r�ld�
            n=1,
            stop=None,
            temperature=0.7,
        )
        return response['choices'][0]['message']['content'].strip()

    except Exception as e:
        logging.error(f"Hata olu�tu: {str(e)}")
        return f"Uyumluluk kontrol� s�ras�nda hata olu�tu: {str(e)}"

def generate_gpt_compliance_report(site_name, compliance_analysis_dict):
    report = f"{site_name} i�in Uyumluluk Raporu:\n\n"
    for regulation, analysis in compliance_analysis_dict.items():
        report += f"{regulation} Uyumlulu�u:\n{analysis}\n\n"
    return report

def save_report_to_file(report, site_name):
    # Raporu dosyaya kaydet
    timestamp = datetime.now().strftime("%Y%m%d_%H%M%S")
    filename = f"{site_name}compliance_report{timestamp}.txt"
    with open(filename, 'w', encoding='utf-8') as f:
        f.write(report)
    logging.info(f"Rapor dosyaya kaydedildi: {filename}")

def fetch_site_content(site_name):
    # Dinamik i�erik getirici (�rnek olarak sabit metin d�nd�r�yor)
    # Ger�ek d�nyada bu, bir dosyadan, API'den veya web scraping ile al�nabilir
    return """
    Bu web sitesi, analiz ama�lar� i�in kullan�c� verilerini toplar. Kullan�c�lara veri saklama veya i�leme detaylar� hakk�nda a��k bir bilgi verilmemektedir.
    """

def main():
    site_name = "�rnek Site"
    site_content = fetch_site_content(site_name)

    # Her d�zenleme i�in uyumluluk raporu olu�tur
    compliance_reports = {}
    for regulation_name, regulation_content in regulations.items():
        compliance_analysis = check_compliance_with_gpt(site_content, regulation_content)
        compliance_reports[regulation_name] = compliance_analysis
        print(f"{regulation_name} i�in Uyumluluk Raporu:\n{compliance_analysis}\n")

    # Final rapor olu�turma
    final_report = generate_gpt_compliance_report(site_name, compliance_reports)

    # Raporu dosyaya kaydetme
    save_report_to_file(final_report, site_name)

    print(final_report)

if _name_ == "_main_":
    main()